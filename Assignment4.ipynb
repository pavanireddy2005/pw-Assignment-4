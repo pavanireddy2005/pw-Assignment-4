{
  "nbformat": 4,
  "nbformat_minor": 0,
  "metadata": {
    "colab": {
      "provenance": []
    },
    "kernelspec": {
      "name": "python3",
      "display_name": "Python 3"
    },
    "language_info": {
      "name": "python"
    }
  },
  "cells": [
    {
      "cell_type": "code",
      "execution_count": null,
      "metadata": {
        "id": "P-WC3CBhqhyM"
      },
      "outputs": [],
      "source": [
        "Question 1:\n",
        "Explain the purpose of version control systems like Git. Why are they essential in modern software development?"
      ]
    },
    {
      "cell_type": "markdown",
      "source": [
        "Answer:\n",
        "Version control systems like Git help developers track changes in code over time. They allow multiple developers to work on the same project simultaneously without overwriting each other’s work.\n",
        "They are essential because they:\n",
        "\n",
        "Maintain a history of all changes made to the codebase.\n",
        "\n",
        "Enable collaboration among developers.\n",
        "\n",
        "Allow reverting to previous versions in case of errors.\n",
        "\n",
        "Support branching and merging for managing new features and bug fixes.\n",
        "\n",
        "Facilitate code review and continuous integration in modern DevOps workflows."
      ],
      "metadata": {
        "id": "V729Djr6qqiB"
      }
    },
    {
      "cell_type": "markdown",
      "source": [
        "Question 2:\n",
        "\n",
        "List the typical steps you would follow when working with Git to make changes to a project and share them on GitHub."
      ],
      "metadata": {
        "id": "V5vNjkqSqx7L"
      }
    },
    {
      "cell_type": "markdown",
      "source": [
        "Answer:\n",
        "\n",
        "1.Clone the repository:\n",
        "git clone <repository-url>\n",
        "\n",
        "2.Create a new branch for your feature or fix:\n",
        "git checkout -b feature-branch\n",
        "\n",
        "3.Make changes to your files locally.\n",
        "\n",
        "4.Stage changes for commit:\n",
        "git add .\n",
        "\n",
        "5.Commit the changes with a message:\n",
        "git commit -m \"Added new feature\"\n",
        "\n",
        "6.Push the branch to GitHub:\n",
        "git push origin feature-branch\n",
        "\n",
        "7.Create a Pull Request (PR) on GitHub to merge the changes into the main branch.\n",
        "\n"
      ],
      "metadata": {
        "id": "a_zowdwwq0jX"
      }
    },
    {
      "cell_type": "code",
      "source": [
        "Question 3:\n",
        "What is the purpose of a .gitignore file in a Git repository? Provide an example of how to ignore all .log files."
      ],
      "metadata": {
        "id": "Wy7YQGw7rA25"
      },
      "execution_count": null,
      "outputs": []
    },
    {
      "cell_type": "markdown",
      "source": [
        "Answer:\n",
        "A .gitignore file tells Git which files or folders to ignore when tracking changes. It helps prevent unnecessary or sensitive files (like temporary files, logs, or credentials) from being added to the repository."
      ],
      "metadata": {
        "id": "Qh4z6tSJrDkJ"
      }
    },
    {
      "cell_type": "markdown",
      "source": [
        "Question 4:\n",
        "\n",
        "You are currently on the main branch and want to switch to a branch named feature-login. Write the Git command to do this."
      ],
      "metadata": {
        "id": "h9mAO7WhrJxD"
      }
    },
    {
      "cell_type": "markdown",
      "source": [
        "Answer:\n",
        "git checkout feature-login"
      ],
      "metadata": {
        "id": "TfovbgLWrOFz"
      }
    },
    {
      "cell_type": "markdown",
      "source": [
        "Question 5:\n",
        "\n",
        "Declare a variable named age using let and assign it the value 25. Then, update its value to 30."
      ],
      "metadata": {
        "id": "1TVI2vdurSUz"
      }
    },
    {
      "cell_type": "code",
      "source": [
        "Answer:\n",
        "let age = 25;\n",
        "age = 30;\n",
        "console.log(age);"
      ],
      "metadata": {
        "id": "dE_eh6ZjrUf6"
      },
      "execution_count": null,
      "outputs": []
    },
    {
      "cell_type": "markdown",
      "source": [
        "Question 6:\n",
        "\n",
        "Declare a constant named PI with the value 3.14159. Attempting to reassign it should result in an error. Demonstrate this behavior by writing out the outcome."
      ],
      "metadata": {
        "id": "p4cNROjDrkY0"
      }
    },
    {
      "cell_type": "code",
      "source": [
        "Answer:\n",
        "const PI = 3.14159;\n",
        "PI = 3.14;\n",
        "console.log(PI);\n"
      ],
      "metadata": {
        "id": "43V-KK3frlqD"
      },
      "execution_count": null,
      "outputs": []
    },
    {
      "cell_type": "markdown",
      "source": [
        "Question 7:\n",
        "\n",
        "You are given the following array:\n",
        "\n",
        "const colors = [\"red\", \"green\", \"blue\", \"yellow\", \"purple\"];\n",
        "\n",
        "\n",
        "Access and print the first element of the array.\n",
        "\n",
        "Access and print the last element of the array.\n",
        "\n",
        "Access and print the third element of the array."
      ],
      "metadata": {
        "id": "H1qQAuiIrqo3"
      }
    },
    {
      "cell_type": "code",
      "source": [
        "Answer:\n",
        "const colors = [\"red\", \"green\", \"blue\", \"yellow\", \"purple\"];\n",
        "console.log(colors[0]);\n",
        "console.log(colors[colors.length - 1]);\n",
        "console.log(colors[2]);\n"
      ],
      "metadata": {
        "id": "HPyxQc4yr0gU"
      },
      "execution_count": null,
      "outputs": []
    },
    {
      "cell_type": "markdown",
      "source": [
        "Question 8:\n",
        "\n",
        "Given x = 10 and y = 5, write expressions to:\n",
        "\n",
        "Add x and y\n",
        "\n",
        "Check if x is greater than y\n",
        "\n",
        "Check if x is equal to y"
      ],
      "metadata": {
        "id": "P-RBKnF3r9Ta"
      }
    },
    {
      "cell_type": "code",
      "source": [
        "Answer:\n",
        "let x = 10;\n",
        "let y = 5;\n",
        "console.log(x + y);\n",
        "console.log(x > y);\n",
        "console.log(x === y);\n"
      ],
      "metadata": {
        "id": "qkpHKhwUsDdq"
      },
      "execution_count": null,
      "outputs": []
    },
    {
      "cell_type": "markdown",
      "source": [
        "Identify the data types of the following values:\n",
        "\n",
        "\"Hello\"\n",
        "\n",
        "42\n",
        "\n",
        "true\n",
        "\n",
        "undefined"
      ],
      "metadata": {
        "id": "ce5ZoYGjsJfR"
      }
    },
    {
      "cell_type": "markdown",
      "source": [
        "Answer:\n",
        "\n",
        "\"Hello\" → String\n",
        "\n",
        "42 → Number\n",
        "\n",
        "true → Boolean\n",
        "\n",
        "undefined → Undefined"
      ],
      "metadata": {
        "id": "hg6lXmLcsMZq"
      }
    }
  ]
}